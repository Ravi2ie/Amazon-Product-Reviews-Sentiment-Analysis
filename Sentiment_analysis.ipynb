{
  "nbformat": 4,
  "nbformat_minor": 0,
  "metadata": {
    "colab": {
      "provenance": [],
      "gpuType": "T4"
    },
    "kernelspec": {
      "name": "python3",
      "display_name": "Python 3"
    },
    "language_info": {
      "name": "python"
    },
    "accelerator": "GPU"
  },
  "cells": [
    {
      "cell_type": "code",
      "execution_count": null,
      "metadata": {
        "colab": {
          "base_uri": "https://localhost:8080/"
        },
        "id": "S77xkLXAcpI3",
        "outputId": "1f8678b3-ff9f-41d2-f35b-53ca30a0f5d8"
      },
      "outputs": [
        {
          "output_type": "stream",
          "name": "stderr",
          "text": [
            "[nltk_data] Downloading package stopwords to /root/nltk_data...\n",
            "[nltk_data]   Unzipping corpora/stopwords.zip.\n"
          ]
        },
        {
          "output_type": "execute_result",
          "data": {
            "text/plain": [
              "True"
            ]
          },
          "metadata": {},
          "execution_count": 1
        }
      ],
      "source": [
        "# Step 1: Import libraries\n",
        "import pandas as pd\n",
        "import numpy as np\n",
        "import re\n",
        "import string\n",
        "from sklearn.model_selection import train_test_split, cross_val_score\n",
        "from sklearn.feature_extraction.text import TfidfVectorizer\n",
        "from sklearn.linear_model import LogisticRegression\n",
        "from sklearn.metrics import classification_report,confusion_matrix,accuracy_score\n",
        "from sklearn.pipeline import Pipeline\n",
        "from nltk.corpus import stopwords\n",
        "import nltk\n",
        "nltk.download('stopwords')\n"
      ]
    },
    {
      "cell_type": "code",
      "source": [
        "from google.colab import drive\n",
        "drive.mount('/content/drive')"
      ],
      "metadata": {
        "colab": {
          "base_uri": "https://localhost:8080/"
        },
        "id": "iYXvBO9-gQwJ",
        "outputId": "07b549f9-1109-44c9-a4c6-951b3c661f4b"
      },
      "execution_count": null,
      "outputs": [
        {
          "output_type": "stream",
          "name": "stdout",
          "text": [
            "Drive already mounted at /content/drive; to attempt to forcibly remount, call drive.mount(\"/content/drive\", force_remount=True).\n"
          ]
        }
      ]
    },
    {
      "cell_type": "code",
      "source": [
        "import pandas as pd\n",
        "\n",
        "# Load the CSVs (no header)\n",
        "test = pd.read_csv('/content/drive/MyDrive/test.csv', header=None)\n",
        "train = pd.read_csv('/content/drive/MyDrive/train.csv', header=None)\n",
        "\n",
        "\n",
        "# Take only the first N rows (e.g., 5000 for training, 1000 for testing)\n",
        "train = train.sample(n=5000, random_state=42)\n",
        "test = test.sample(n=1000, random_state=42)\n",
        "\n",
        "# Combine text columns and rename\n",
        "train.columns = ['sentiment', 'part1', 'part2']\n",
        "train['review'] = train['part1'].astype(str) + \" \" + train['part2'].astype(str)\n",
        "train = train[['review', 'sentiment']]  # Keep only necessary columns\n",
        "\n",
        "test.columns = ['sentiment', 'part1', 'part2']\n",
        "test['review'] = test['part1'].astype(str) + \" \" + test['part2'].astype(str)\n",
        "test = test[['review', 'sentiment']]\n"
      ],
      "metadata": {
        "id": "g0Ys_fU5ggww"
      },
      "execution_count": null,
      "outputs": []
    },
    {
      "cell_type": "code",
      "source": [
        "def preprocess_text(text):\n",
        "    text = str(text).lower()\n",
        "    text = re.sub(r\"http\\S+|www\\S+|https\\S+\", '', text)  # remove URLs\n",
        "    text = re.sub(r'[^a-zA-Z\\s]', '', text)  # remove special characters and numbers\n",
        "    text = re.sub(r'\\s+', ' ', text).strip()  # remove extra spaces\n",
        "    text = \" \".join([word for word in text.split() if word not in stopwords.words('english')])\n",
        "    return text\n"
      ],
      "metadata": {
        "id": "UcIl-FAMjqsi"
      },
      "execution_count": null,
      "outputs": []
    },
    {
      "cell_type": "code",
      "source": [
        "import re\n",
        "train['clean_review'] = train['review'].apply(preprocess_text)\n",
        "test['clean_review'] = test['review'].apply(preprocess_text)\n"
      ],
      "metadata": {
        "id": "y-VvmAtaj6tt",
        "collapsed": true
      },
      "execution_count": null,
      "outputs": []
    },
    {
      "cell_type": "code",
      "source": [
        "# Vectorize the clean review text\n",
        "tfidf = TfidfVectorizer(max_features=5000)\n",
        "X_train = tfidf.fit_transform(train['clean_review'])\n",
        "X_test = tfidf.transform(test['clean_review'])\n",
        "\n",
        "y_train = train['sentiment']\n",
        "y_test = test['sentiment']\n",
        "train['sentiment'] = train['sentiment'].map({2: 1, 1: 0})\n",
        "test['sentiment'] = test['sentiment'].map({2: 1, 1: 0})\n"
      ],
      "metadata": {
        "id": "cRlIEIsMqJA9"
      },
      "execution_count": null,
      "outputs": []
    },
    {
      "cell_type": "code",
      "source": [
        "# Logistic Regression for binary classification\n",
        "model = LogisticRegression()\n",
        "\n",
        "# Cross-validation to avoid overfitting\n",
        "cv_scores = cross_val_score(model, X_train, y_train, cv=5)\n",
        "print(\"Average Cross-Validation Accuracy:\", np.mean(cv_scores))\n"
      ],
      "metadata": {
        "id": "1JazDFZJqMHZ",
        "colab": {
          "base_uri": "https://localhost:8080/"
        },
        "outputId": "1477efb3-37d9-4eee-ecfe-1ce88e109748"
      },
      "execution_count": null,
      "outputs": [
        {
          "output_type": "stream",
          "name": "stdout",
          "text": [
            "Average Cross-Validation Accuracy: 0.8352\n"
          ]
        }
      ]
    },
    {
      "cell_type": "code",
      "source": [
        "# Fit model\n",
        "model.fit(X_train, y_train)\n",
        "\n",
        "# Predict on test data\n",
        "test['predicted_sentiment'] = model.predict(X_test)\n",
        "\n",
        "# Evaluate (if test has labels)\n",
        "print(classification_report(y_test, test['predicted_sentiment']))\n",
        "print(\"Accuracy :\",accuracy_score(y_test,test['predicted_sentiment']))\n",
        "\n",
        "print(\"Confusion matrix :\",confusion_matrix(y_test,test['predicted_sentiment']))\n"
      ],
      "metadata": {
        "id": "9Mldi7QiqQmx",
        "colab": {
          "base_uri": "https://localhost:8080/"
        },
        "outputId": "aa69ff4b-327d-4cc0-9605-bffe4c77b3c0"
      },
      "execution_count": null,
      "outputs": [
        {
          "output_type": "stream",
          "name": "stdout",
          "text": [
            "              precision    recall  f1-score   support\n",
            "\n",
            "           0       0.85      0.86      0.86       496\n",
            "           1       0.86      0.85      0.86       504\n",
            "\n",
            "    accuracy                           0.86      1000\n",
            "   macro avg       0.86      0.86      0.86      1000\n",
            "weighted avg       0.86      0.86      0.86      1000\n",
            "\n",
            "Accuracy : 0.857\n",
            "Confusion matrix : [[429  67]\n",
            " [ 76 428]]\n"
          ]
        }
      ]
    }
  ]
}